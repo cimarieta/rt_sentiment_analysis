{
 "cells": [
  {
   "cell_type": "markdown",
   "metadata": {},
   "source": [
    "## Implementação da solução"
   ]
  },
  {
   "cell_type": "markdown",
   "metadata": {},
   "source": [
    "### Carregando os dados..."
   ]
  },
  {
   "cell_type": "code",
   "execution_count": 30,
   "metadata": {
    "collapsed": true
   },
   "outputs": [],
   "source": [
    "\"\"\"\n",
    "Imports\n",
    "\"\"\"\n",
    "import codecs\n",
    "from langdetect import detect as detect_language\n",
    "import pandas as pd\n",
    "import regex\n",
    "import spacy"
   ]
  },
  {
   "cell_type": "code",
   "execution_count": 19,
   "metadata": {
    "collapsed": true
   },
   "outputs": [],
   "source": [
    "# Global variables\n",
    "nlp = spacy.load('en')"
   ]
  },
  {
   "cell_type": "code",
   "execution_count": 2,
   "metadata": {
    "collapsed": true
   },
   "outputs": [],
   "source": [
    "def read_data_to_df():\n",
    "    \"\"\" Read data into dataframe\n",
    "    \"\"\"\n",
    "    df = pd.DataFrame()\n",
    "    filenames = ['data/rt-polarity.neg', 'data/rt-polarity.pos']\n",
    "    for filename in filenames:\n",
    "        with codecs.open(filename, 'r', 'utf-8') as f:\n",
    "            lines = f.readlines()\n",
    "        # remove breaklines if they exist\n",
    "        lines = [u' '.join(line.split()).strip() for line in lines]\n",
    "        df_aux = pd.DataFrame()\n",
    "        df_aux['review'] = lines\n",
    "        positive_label = u'.pos' in filename\n",
    "        df_aux['label'] = int(positive_label)\n",
    "        df = pd.concat([df, df_aux])\n",
    "    return df"
   ]
  },
  {
   "cell_type": "code",
   "execution_count": 27,
   "metadata": {},
   "outputs": [
    {
     "data": {
      "text/html": [
       "<div>\n",
       "<style>\n",
       "    .dataframe thead tr:only-child th {\n",
       "        text-align: right;\n",
       "    }\n",
       "\n",
       "    .dataframe thead th {\n",
       "        text-align: left;\n",
       "    }\n",
       "\n",
       "    .dataframe tbody tr th {\n",
       "        vertical-align: top;\n",
       "    }\n",
       "</style>\n",
       "<table border=\"1\" class=\"dataframe\">\n",
       "  <thead>\n",
       "    <tr style=\"text-align: right;\">\n",
       "      <th></th>\n",
       "      <th>review</th>\n",
       "      <th>label</th>\n",
       "    </tr>\n",
       "  </thead>\n",
       "  <tbody>\n",
       "    <tr>\n",
       "      <th>0</th>\n",
       "      <td>simplistic , silly and tedious .</td>\n",
       "      <td>0</td>\n",
       "    </tr>\n",
       "    <tr>\n",
       "      <th>1</th>\n",
       "      <td>it's so laddish and juvenile , only teenage bo...</td>\n",
       "      <td>0</td>\n",
       "    </tr>\n",
       "    <tr>\n",
       "      <th>2</th>\n",
       "      <td>exploitative and largely devoid of the depth o...</td>\n",
       "      <td>0</td>\n",
       "    </tr>\n",
       "    <tr>\n",
       "      <th>3</th>\n",
       "      <td>[garbus] discards the potential for pathologic...</td>\n",
       "      <td>0</td>\n",
       "    </tr>\n",
       "    <tr>\n",
       "      <th>4</th>\n",
       "      <td>a visually flashy but narratively opaque and e...</td>\n",
       "      <td>0</td>\n",
       "    </tr>\n",
       "  </tbody>\n",
       "</table>\n",
       "</div>"
      ],
      "text/plain": [
       "                                              review  label\n",
       "0                   simplistic , silly and tedious .      0\n",
       "1  it's so laddish and juvenile , only teenage bo...      0\n",
       "2  exploitative and largely devoid of the depth o...      0\n",
       "3  [garbus] discards the potential for pathologic...      0\n",
       "4  a visually flashy but narratively opaque and e...      0"
      ]
     },
     "execution_count": 27,
     "metadata": {},
     "output_type": "execute_result"
    }
   ],
   "source": [
    "df = read_data_to_df()\n",
    "df.head()"
   ]
  },
  {
   "cell_type": "markdown",
   "metadata": {},
   "source": [
    "### Processando o texto..."
   ]
  },
  {
   "cell_type": "code",
   "execution_count": null,
   "metadata": {
    "collapsed": true
   },
   "outputs": [],
   "source": [
    "def remove_punct_html_tag(text):\n",
    "    \"\"\" Remove punctuation and html tags\n",
    "    \"\"\"\n",
    "    text = regex.sub(ur'<.{0,10}>', u' ', text)\n",
    "    text = regex.sub(ur'[^a-zA-Z0-9\\s]', u' ', text)\n",
    "    text = regex.sub(ur'\\s+', u' ', text)\n",
    "    return text.strip()"
   ]
  },
  {
   "cell_type": "code",
   "execution_count": null,
   "metadata": {
    "collapsed": true
   },
   "outputs": [],
   "source": [
    "df['review_no_punct'] = df['review'].apply(remove_punct_html_tag)"
   ]
  },
  {
   "cell_type": "markdown",
   "metadata": {},
   "source": [
    "### Filtrando somente as reviews em inglês..."
   ]
  },
  {
   "cell_type": "markdown",
   "metadata": {},
   "source": [
    "**Obs:** Inicialmente, pensei em usar o `langdetect` para essa função, mas aparentemente, há muitos exemplos mal classificados. Além disso, como um dos objetivos posteriores é fazer *pos tag*, uso o modelo `en` do `spacy` para checar se "
   ]
  },
  {
   "cell_type": "code",
   "execution_count": 31,
   "metadata": {},
   "outputs": [],
   "source": [
    "def english_pos_tag_works(text):\n",
    "    \"\"\" Check if pos tag would work in this `text`\n",
    "    \"\"\"\n",
    "    doc = nlp(text)\n",
    "    for token in doc:\n",
    "        if token.pos_ == u'X':\n",
    "            return False\n",
    "    return True"
   ]
  },
  {
   "cell_type": "code",
   "execution_count": 32,
   "metadata": {},
   "outputs": [],
   "source": [
    "# calculate fields `language` and `english_pos_tag_works`\n",
    "df['language'] = df['review_no_punct'].apply(detect_language)\n",
    "df['english_pos_tag_works'] = df['review_no_punct'].apply(english_pos_tag_works)"
   ]
  },
  {
   "cell_type": "code",
   "execution_count": 57,
   "metadata": {},
   "outputs": [],
   "source": [
    "def should_keep(row):\n",
    "    \"\"\" Whether to keep a row or not. Three criteria are used, depending \n",
    "    on the length of the text:\n",
    "        1. length(text) > 10\n",
    "        2. if length(text) <= 40, we keep it if language was identified as english\n",
    "        or if pos tag would work in the text\n",
    "        3. if length(text) > 40, we keep it only if language was identified as english\n",
    "    \"\"\"\n",
    "    text = row['review_no_punct']\n",
    "    if len(text) < 10:\n",
    "        return False\n",
    "    language = row['language']\n",
    "    english_pos_tag_works = row['english_pos_tag_works']\n",
    "    # for long sentences, get language id from langdetect\n",
    "    if len(text) > 40:\n",
    "        return (language == 'en')\n",
    "    return (language == 'en' or english_pos_tag_works == True)"
   ]
  },
  {
   "cell_type": "code",
   "execution_count": 58,
   "metadata": {},
   "outputs": [
    {
     "data": {
      "text/html": [
       "<div>\n",
       "<style>\n",
       "    .dataframe thead tr:only-child th {\n",
       "        text-align: right;\n",
       "    }\n",
       "\n",
       "    .dataframe thead th {\n",
       "        text-align: left;\n",
       "    }\n",
       "\n",
       "    .dataframe tbody tr th {\n",
       "        vertical-align: top;\n",
       "    }\n",
       "</style>\n",
       "<table border=\"1\" class=\"dataframe\">\n",
       "  <thead>\n",
       "    <tr style=\"text-align: right;\">\n",
       "      <th></th>\n",
       "      <th>review</th>\n",
       "      <th>label</th>\n",
       "      <th>review_no_punct</th>\n",
       "      <th>language</th>\n",
       "      <th>english_pos_tag_works</th>\n",
       "      <th>keep</th>\n",
       "    </tr>\n",
       "  </thead>\n",
       "  <tbody>\n",
       "    <tr>\n",
       "      <th>0</th>\n",
       "      <td>simplistic , silly and tedious .</td>\n",
       "      <td>0</td>\n",
       "      <td>simplistic silly and tedious</td>\n",
       "      <td>en</td>\n",
       "      <td>True</td>\n",
       "      <td>True</td>\n",
       "    </tr>\n",
       "    <tr>\n",
       "      <th>1</th>\n",
       "      <td>it's so laddish and juvenile , only teenage bo...</td>\n",
       "      <td>0</td>\n",
       "      <td>it s so laddish and juvenile only teenage boys...</td>\n",
       "      <td>en</td>\n",
       "      <td>True</td>\n",
       "      <td>True</td>\n",
       "    </tr>\n",
       "    <tr>\n",
       "      <th>2</th>\n",
       "      <td>exploitative and largely devoid of the depth o...</td>\n",
       "      <td>0</td>\n",
       "      <td>exploitative and largely devoid of the depth o...</td>\n",
       "      <td>en</td>\n",
       "      <td>True</td>\n",
       "      <td>True</td>\n",
       "    </tr>\n",
       "    <tr>\n",
       "      <th>3</th>\n",
       "      <td>[garbus] discards the potential for pathologic...</td>\n",
       "      <td>0</td>\n",
       "      <td>garbus discards the potential for pathologica...</td>\n",
       "      <td>en</td>\n",
       "      <td>True</td>\n",
       "      <td>True</td>\n",
       "    </tr>\n",
       "    <tr>\n",
       "      <th>4</th>\n",
       "      <td>a visually flashy but narratively opaque and e...</td>\n",
       "      <td>0</td>\n",
       "      <td>a visually flashy but narratively opaque and e...</td>\n",
       "      <td>en</td>\n",
       "      <td>True</td>\n",
       "      <td>True</td>\n",
       "    </tr>\n",
       "  </tbody>\n",
       "</table>\n",
       "</div>"
      ],
      "text/plain": [
       "                                              review  label  \\\n",
       "0                   simplistic , silly and tedious .      0   \n",
       "1  it's so laddish and juvenile , only teenage bo...      0   \n",
       "2  exploitative and largely devoid of the depth o...      0   \n",
       "3  [garbus] discards the potential for pathologic...      0   \n",
       "4  a visually flashy but narratively opaque and e...      0   \n",
       "\n",
       "                                     review_no_punct language  \\\n",
       "0                      simplistic silly and tedious        en   \n",
       "1  it s so laddish and juvenile only teenage boys...       en   \n",
       "2  exploitative and largely devoid of the depth o...       en   \n",
       "3   garbus discards the potential for pathologica...       en   \n",
       "4  a visually flashy but narratively opaque and e...       en   \n",
       "\n",
       "   english_pos_tag_works  keep  \n",
       "0                   True  True  \n",
       "1                   True  True  \n",
       "2                   True  True  \n",
       "3                   True  True  \n",
       "4                   True  True  "
      ]
     },
     "execution_count": 58,
     "metadata": {},
     "output_type": "execute_result"
    }
   ],
   "source": [
    "# calculate `should_keep`        \n",
    "df['keep'] = df.apply(should_keep, axis=1)\n",
    "df.head()"
   ]
  },
  {
   "cell_type": "code",
   "execution_count": 59,
   "metadata": {},
   "outputs": [
    {
     "data": {
      "text/html": [
       "<div>\n",
       "<style>\n",
       "    .dataframe thead tr:only-child th {\n",
       "        text-align: right;\n",
       "    }\n",
       "\n",
       "    .dataframe thead th {\n",
       "        text-align: left;\n",
       "    }\n",
       "\n",
       "    .dataframe tbody tr th {\n",
       "        vertical-align: top;\n",
       "    }\n",
       "</style>\n",
       "<table border=\"1\" class=\"dataframe\">\n",
       "  <thead>\n",
       "    <tr style=\"text-align: right;\">\n",
       "      <th></th>\n",
       "      <th>review</th>\n",
       "      <th>review_no_punct</th>\n",
       "      <th>label</th>\n",
       "    </tr>\n",
       "  </thead>\n",
       "  <tbody>\n",
       "    <tr>\n",
       "      <th>0</th>\n",
       "      <td>simplistic , silly and tedious .</td>\n",
       "      <td>simplistic silly and tedious</td>\n",
       "      <td>0</td>\n",
       "    </tr>\n",
       "    <tr>\n",
       "      <th>1</th>\n",
       "      <td>it's so laddish and juvenile , only teenage bo...</td>\n",
       "      <td>it s so laddish and juvenile only teenage boys...</td>\n",
       "      <td>0</td>\n",
       "    </tr>\n",
       "    <tr>\n",
       "      <th>2</th>\n",
       "      <td>exploitative and largely devoid of the depth o...</td>\n",
       "      <td>exploitative and largely devoid of the depth o...</td>\n",
       "      <td>0</td>\n",
       "    </tr>\n",
       "    <tr>\n",
       "      <th>3</th>\n",
       "      <td>[garbus] discards the potential for pathologic...</td>\n",
       "      <td>garbus discards the potential for pathologica...</td>\n",
       "      <td>0</td>\n",
       "    </tr>\n",
       "    <tr>\n",
       "      <th>4</th>\n",
       "      <td>a visually flashy but narratively opaque and e...</td>\n",
       "      <td>a visually flashy but narratively opaque and e...</td>\n",
       "      <td>0</td>\n",
       "    </tr>\n",
       "  </tbody>\n",
       "</table>\n",
       "</div>"
      ],
      "text/plain": [
       "                                              review  \\\n",
       "0                   simplistic , silly and tedious .   \n",
       "1  it's so laddish and juvenile , only teenage bo...   \n",
       "2  exploitative and largely devoid of the depth o...   \n",
       "3  [garbus] discards the potential for pathologic...   \n",
       "4  a visually flashy but narratively opaque and e...   \n",
       "\n",
       "                                     review_no_punct  label  \n",
       "0                      simplistic silly and tedious       0  \n",
       "1  it s so laddish and juvenile only teenage boys...      0  \n",
       "2  exploitative and largely devoid of the depth o...      0  \n",
       "3   garbus discards the potential for pathologica...      0  \n",
       "4  a visually flashy but narratively opaque and e...      0  "
      ]
     },
     "execution_count": 59,
     "metadata": {},
     "output_type": "execute_result"
    }
   ],
   "source": [
    "# remove lines with `keep = False` and useless cols\n",
    "df = df[df['keep']==True]\n",
    "useful_cols = ['review', 'review_no_punct', 'label']\n",
    "df = df[useful_cols]\n",
    "df.head()"
   ]
  },
  {
   "cell_type": "code",
   "execution_count": null,
   "metadata": {
    "collapsed": true
   },
   "outputs": [],
   "source": []
  }
 ],
 "metadata": {
  "kernelspec": {
   "display_name": "Python 2",
   "language": "python",
   "name": "python2"
  },
  "language_info": {
   "codemirror_mode": {
    "name": "ipython",
    "version": 2
   },
   "file_extension": ".py",
   "mimetype": "text/x-python",
   "name": "python",
   "nbconvert_exporter": "python",
   "pygments_lexer": "ipython2",
   "version": "2.7.12"
  }
 },
 "nbformat": 4,
 "nbformat_minor": 2
}
